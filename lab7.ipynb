{
 "cells": [
  {
   "cell_type": "code",
   "execution_count": 5,
   "metadata": {},
   "outputs": [],
   "source": [
    "from cmdstanpy import CmdStanModel\n",
    "import pandas as pd\n",
    "import arviz as az \n",
    "import numpy as np\n",
    "import matplotlib.pyplot as plt\n",
    "import scipy.stats as stats\n",
    "\n",
    "F=len('Mikolaj')\n",
    "L=len('szopa')\n",
    "N=(F+L)*100\n"
   ]
  },
  {
   "cell_type": "markdown",
   "metadata": {},
   "source": [
    "EXERCISE 1"
   ]
  },
  {
   "cell_type": "code",
   "execution_count": 6,
   "metadata": {},
   "outputs": [
    {
     "name": "stderr",
     "output_type": "stream",
     "text": [
      "INFO:cmdstanpy:found newer exe file, not recompiling\n"
     ]
    }
   ],
   "source": [
    "model1 = CmdStanModel(stan_file='code_1.stan')\n",
    "data = {'N': N}"
   ]
  },
  {
   "cell_type": "code",
   "execution_count": 7,
   "metadata": {},
   "outputs": [
    {
     "name": "stderr",
     "output_type": "stream",
     "text": [
      "INFO:cmdstanpy:CmdStan start processing\n",
      "chain 1 |\u001b[33m          \u001b[0m| 00:00 Status\n",
      "\u001b[A\n",
      "\n",
      "chain 1 |\u001b[34m▉         \u001b[0m| 00:00 Iteration:   1 / 1000 [  0%]  (Sampling)\n",
      "\n",
      "\u001b[A\u001b[A\n",
      "chain 1 |\u001b[34m█▎        \u001b[0m| 00:00 Iteration: 100 / 1000 [ 10%]  (Sampling)\n",
      "\u001b[A\n",
      "\n",
      "chain 1 |\u001b[34m█▊        \u001b[0m| 00:00 Iteration: 200 / 1000 [ 20%]  (Sampling)\n",
      "\u001b[A\n",
      "\n",
      "chain 1 |\u001b[34m██▎       \u001b[0m| 00:00 Iteration: 300 / 1000 [ 30%]  (Sampling)\n",
      "\u001b[A\n",
      "\n",
      "chain 1 |\u001b[34m██▋       \u001b[0m| 00:01 Iteration: 400 / 1000 [ 40%]  (Sampling)\n",
      "\u001b[A\n",
      "\n",
      "chain 1 |\u001b[34m███▏      \u001b[0m| 00:01 Iteration: 500 / 1000 [ 50%]  (Sampling)\n",
      "\u001b[A\n",
      "\n",
      "chain 1 |\u001b[34m███▋      \u001b[0m| 00:01 Iteration: 600 / 1000 [ 60%]  (Sampling)\n",
      "\u001b[A\n",
      "\n",
      "chain 1 |\u001b[34m████      \u001b[0m| 00:01 Iteration: 700 / 1000 [ 70%]  (Sampling)\n",
      "\u001b[A\n",
      "\n",
      "chain 1 |\u001b[34m████▌     \u001b[0m| 00:01 Iteration: 800 / 1000 [ 80%]  (Sampling)\n",
      "\u001b[A\n",
      "\n",
      "chain 1 |\u001b[34m█████     \u001b[0m| 00:02 Iteration: 900 / 1000 [ 90%]  (Sampling)\n",
      "\n",
      "\u001b[A\u001b[A\n",
      "chain 1 |\u001b[34m██████████\u001b[0m| 00:02 Sampling completed                      \n",
      "chain 2 |\u001b[34m██████████\u001b[0m| 00:02 Sampling completed                      \n",
      "chain 3 |\u001b[34m██████████\u001b[0m| 00:02 Sampling completed                      \n",
      "chain 4 |\u001b[34m██████████\u001b[0m| 00:02 Sampling completed                      "
     ]
    },
    {
     "name": "stdout",
     "output_type": "stream",
     "text": [
      "                                                                                                                                                                                                                                                                                                                                "
     ]
    },
    {
     "name": "stderr",
     "output_type": "stream",
     "text": [
      "\n",
      "INFO:cmdstanpy:CmdStan done processing.\n"
     ]
    },
    {
     "name": "stdout",
     "output_type": "stream",
     "text": [
      "\n"
     ]
    }
   ],
   "source": [
    "sample1 = model1.sample(data=data, chains=4)"
   ]
  },
  {
   "cell_type": "code",
   "execution_count": 21,
   "metadata": {},
   "outputs": [
    {
     "name": "stdout",
     "output_type": "stream",
     "text": [
      "(4000, 1200)\n"
     ]
    }
   ],
   "source": [
    "y1 = sample1.stan_variable(\"y\")\n",
    "print(np.shape(y1))"
   ]
  },
  {
   "cell_type": "code",
   "execution_count": 9,
   "metadata": {},
   "outputs": [
    {
     "name": "stderr",
     "output_type": "stream",
     "text": [
      "INFO:cmdstanpy:found newer exe file, not recompiling\n"
     ]
    }
   ],
   "source": [
    "model2 = CmdStanModel(stan_file='code_2.stan')\n",
    "data = {'N': N}"
   ]
  },
  {
   "cell_type": "code",
   "execution_count": 10,
   "metadata": {},
   "outputs": [
    {
     "name": "stderr",
     "output_type": "stream",
     "text": [
      "INFO:cmdstanpy:CmdStan start processing\n",
      "chain 1 |\u001b[33m          \u001b[0m| 00:00 Status\n",
      "\u001b[A\n",
      "\n",
      "chain 1 |\u001b[34m▉         \u001b[0m| 00:00 Iteration:   1 / 1000 [  0%]  (Sampling)\n",
      "\u001b[A\n",
      "\n",
      "\u001b[A\u001b[A\n",
      "\u001b[A\n",
      "\n",
      "chain 1 |\u001b[34m█▎        \u001b[0m| 00:01 Iteration: 100 / 1000 [ 10%]  (Sampling)\n",
      "\u001b[A\n",
      "\n",
      "chain 1 |\u001b[34m█▊        \u001b[0m| 00:02 Iteration: 200 / 1000 [ 20%]  (Sampling)\n",
      "\u001b[A\n",
      "\n",
      "chain 1 |\u001b[34m██▎       \u001b[0m| 00:02 Iteration: 300 / 1000 [ 30%]  (Sampling)\n",
      "\u001b[A\n",
      "\n",
      "chain 1 |\u001b[34m██▋       \u001b[0m| 00:03 Iteration: 400 / 1000 [ 40%]  (Sampling)\n",
      "\u001b[A\n",
      "\n",
      "chain 1 |\u001b[34m███▏      \u001b[0m| 00:04 Iteration: 500 / 1000 [ 50%]  (Sampling)\n",
      "\n",
      "\u001b[A\u001b[A\n",
      "chain 1 |\u001b[34m███▋      \u001b[0m| 00:05 Iteration: 600 / 1000 [ 60%]  (Sampling)\n",
      "\n",
      "\u001b[A\u001b[A\n",
      "chain 1 |\u001b[34m████      \u001b[0m| 00:05 Iteration: 700 / 1000 [ 70%]  (Sampling)\n",
      "\n",
      "\u001b[A\u001b[A\n",
      "chain 1 |\u001b[34m████▌     \u001b[0m| 00:06 Iteration: 800 / 1000 [ 80%]  (Sampling)\n",
      "\u001b[A\n",
      "\n",
      "chain 1 |\u001b[34m██████████\u001b[0m| 00:07 Sampling completed                      \n",
      "chain 2 |\u001b[34m██████████\u001b[0m| 00:07 Sampling completed\n",
      "\n",
      "chain 3 |\u001b[34m██████████\u001b[0m| 00:07 Sampling completed\n",
      "\n",
      "\n",
      "chain 4 |\u001b[34m██████████\u001b[0m| 00:07 Sampling completed"
     ]
    },
    {
     "name": "stdout",
     "output_type": "stream",
     "text": [
      "                                                                                                                                                                                                                                                                                                                                "
     ]
    },
    {
     "name": "stderr",
     "output_type": "stream",
     "text": [
      "\n",
      "INFO:cmdstanpy:CmdStan done processing.\n"
     ]
    },
    {
     "name": "stdout",
     "output_type": "stream",
     "text": [
      "\n"
     ]
    }
   ],
   "source": [
    "sample2 = model2.sample(data=data, chains=4)"
   ]
  },
  {
   "cell_type": "code",
   "execution_count": 11,
   "metadata": {},
   "outputs": [
    {
     "name": "stdout",
     "output_type": "stream",
     "text": [
      "[[ 0.106109   0.146188   1.64504   ... -1.09811   -2.66295    1.57317  ]\n",
      " [ 0.848979  -5.13966    4.42873   ...  1.77589    0.189694  -2.7015   ]\n",
      " [ 2.23041   -2.42189    0.573335  ...  3.05308   -5.18724    1.7983   ]\n",
      " ...\n",
      " [ 1.76937    0.0591549  0.91415   ...  0.736696  -5.28886    2.57711  ]\n",
      " [ 0.217976   1.3915     1.36046   ...  0.3462     0.779689  -3.53729  ]\n",
      " [-0.366817  -2.10188    3.31932   ...  3.20875   -2.64434   -0.465526 ]]\n"
     ]
    }
   ],
   "source": [
    "y2 = sample2.stan_variable(\"y\")\n",
    "print(y2)"
   ]
  },
  {
   "cell_type": "markdown",
   "metadata": {},
   "source": [
    "EXERCISE 2"
   ]
  },
  {
   "cell_type": "code",
   "execution_count": 12,
   "metadata": {},
   "outputs": [
    {
     "name": "stderr",
     "output_type": "stream",
     "text": [
      "INFO:cmdstanpy:found newer exe file, not recompiling\n",
      "INFO:cmdstanpy:found newer exe file, not recompiling\n"
     ]
    }
   ],
   "source": [
    "model3 = CmdStanModel(stan_file='code_3.stan')\n",
    "model4 = CmdStanModel(stan_file='code_4.stan')"
   ]
  },
  {
   "cell_type": "code",
   "execution_count": 23,
   "metadata": {},
   "outputs": [],
   "source": [
    "data = {'N':N, 'y':y1[0]}"
   ]
  },
  {
   "cell_type": "code",
   "execution_count": 22,
   "metadata": {},
   "outputs": [
    {
     "name": "stderr",
     "output_type": "stream",
     "text": [
      "INFO:cmdstanpy:CmdStan start processing\n",
      "chain 1 |\u001b[33m          \u001b[0m| 00:00 Status\n",
      "\u001b[A\n",
      "\n",
      "chain 1 |\u001b[33m█████     \u001b[0m| 00:00 Iteration:  900 / 2000 [ 45%]  (Warmup)\n",
      "\n",
      "\u001b[A\u001b[A\n",
      "\u001b[A\n",
      "\n",
      "\u001b[A\u001b[A\n",
      "\u001b[A\n",
      "\n",
      "\u001b[A\u001b[A\n",
      "\u001b[A\n",
      "\n",
      "\u001b[A\u001b[A\n",
      "\u001b[A\n",
      "\n",
      "\u001b[A\u001b[A\n",
      "\u001b[A\n",
      "\n",
      "\u001b[A\u001b[A\n",
      "\u001b[A\n",
      "\n",
      "\u001b[A\u001b[A\n",
      "chain 1 |\u001b[34m██████████\u001b[0m| 00:03 Sampling completed                       \n",
      "chain 2 |\u001b[34m██████████\u001b[0m| 00:03 Sampling completed                       \n",
      "chain 3 |\u001b[34m██████████\u001b[0m| 00:03 Sampling completed                       \n",
      "chain 4 |\u001b[34m██████████\u001b[0m| 00:03 Sampling completed                       "
     ]
    },
    {
     "name": "stdout",
     "output_type": "stream",
     "text": [
      "                                                                                                                                                                                                                                                                                                                                "
     ]
    },
    {
     "name": "stderr",
     "output_type": "stream",
     "text": [
      "\n",
      "INFO:cmdstanpy:CmdStan done processing.\n"
     ]
    },
    {
     "name": "stdout",
     "output_type": "stream",
     "text": [
      "\n"
     ]
    },
    {
     "name": "stderr",
     "output_type": "stream",
     "text": [
      "INFO:cmdstanpy:CmdStan start processing\n",
      "chain 1 |\u001b[33m          \u001b[0m| 00:00 Status\n",
      "\u001b[A\n",
      "\n",
      "chain 1 |\u001b[33m█▎        \u001b[0m| 00:00 Iteration:  100 / 2000 [  5%]  (Warmup)\n",
      "\n",
      "\u001b[A\u001b[A\n",
      "chain 1 |\u001b[33m███▏      \u001b[0m| 00:00 Iteration:  500 / 2000 [ 25%]  (Warmup)\n",
      "\n",
      "\u001b[A\u001b[A\n",
      "chain 1 |\u001b[33m█████     \u001b[0m| 00:00 Iteration:  900 / 2000 [ 45%]  (Warmup)\n",
      "\n",
      "\u001b[A\u001b[A\n",
      "chain 1 |\u001b[34m██████▊   \u001b[0m| 00:01 Iteration: 1200 / 2000 [ 60%]  (Sampling)\n",
      "\u001b[A\n",
      "\n",
      "chain 1 |\u001b[34m████████▏ \u001b[0m| 00:03 Iteration: 1500 / 2000 [ 75%]  (Sampling)\n",
      "\n",
      "\u001b[A\u001b[A\n",
      "chain 1 |\u001b[34m█████████ \u001b[0m| 00:04 Iteration: 1700 / 2000 [ 85%]  (Sampling)\n",
      "\u001b[A\n",
      "\n",
      "chain 1 |\u001b[34m█████████▌\u001b[0m| 00:04 Iteration: 1800 / 2000 [ 90%]  (Sampling)\n",
      "chain 1 |\u001b[34m██████████\u001b[0m| 00:04 Iteration: 1900 / 2000 [ 95%]  (Sampling)\n",
      "\n",
      "chain 1 |\u001b[34m██████████\u001b[0m| 00:04 Sampling completed                       \n",
      "chain 2 |\u001b[34m██████████\u001b[0m| 00:04 Sampling completed                       \n",
      "chain 3 |\u001b[34m██████████\u001b[0m| 00:04 Sampling completed                       \n",
      "chain 4 |\u001b[34m██████████\u001b[0m| 00:04 Sampling completed                       "
     ]
    },
    {
     "name": "stdout",
     "output_type": "stream",
     "text": [
      "                                                                                                                                                                                                                                                                                                                                "
     ]
    },
    {
     "name": "stderr",
     "output_type": "stream",
     "text": [
      "\n",
      "INFO:cmdstanpy:CmdStan done processing.\n"
     ]
    },
    {
     "name": "stdout",
     "output_type": "stream",
     "text": [
      "\n"
     ]
    }
   ],
   "source": [
    "sample3=model3.sample(data=data, chains=4)\n",
    "sample4=model4.sample(data=data, chains=4)"
   ]
  },
  {
   "cell_type": "code",
   "execution_count": 32,
   "metadata": {},
   "outputs": [
    {
     "name": "stderr",
     "output_type": "stream",
     "text": [
      "p:\\Users\\mjszo\\anaconda3\\envs\\data\\lib\\site-packages\\arviz\\stats\\stats.py:1458: UserWarning: For one or more samples the posterior variance of the log predictive densities exceeds 0.4. This could be indication of WAIC starting to fail. \n",
      "See http://arxiv.org/abs/1507.04544 for details\n",
      "  warnings.warn(\n",
      "p:\\Users\\mjszo\\anaconda3\\envs\\data\\lib\\site-packages\\arviz\\stats\\stats.py:248: FutureWarning: The frame.append method is deprecated and will be removed from pandas in a future version. Use pandas.concat instead.\n",
      "  ics = ics.append([ic_func(dataset, pointwise=True, scale=scale, var_name=var_name)])\n"
     ]
    },
    {
     "name": "stdout",
     "output_type": "stream",
     "text": [
      "        rank         waic     p_waic      d_waic  weight          se  \\\n",
      "model4     0 -1914.786225   4.333193    0.000000     1.0   42.851728   \n",
      "model3     1 -2709.605862  50.090754  794.819637     0.0  177.892818   \n",
      "\n",
      "               dse  warning waic_scale  \n",
      "model4    0.000000    False        log  \n",
      "model3  150.188352     True        log  \n"
     ]
    },
    {
     "name": "stderr",
     "output_type": "stream",
     "text": [
      "p:\\Users\\mjszo\\anaconda3\\envs\\data\\lib\\site-packages\\arviz\\stats\\stats.py:248: FutureWarning: The frame.append method is deprecated and will be removed from pandas in a future version. Use pandas.concat instead.\n",
      "  ics = ics.append([ic_func(dataset, pointwise=True, scale=scale, var_name=var_name)])\n"
     ]
    },
    {
     "data": {
      "text/plain": [
       "<AxesSubplot:xlabel='Log'>"
      ]
     },
     "execution_count": 32,
     "metadata": {},
     "output_type": "execute_result"
    },
    {
     "data": {
      "image/png": "[encoded data removed]",
      "text/plain": [
       "<Figure size 432x144 with 1 Axes>"
      ]
     },
     "metadata": {
      "needs_background": "light"
     },
     "output_type": "display_data"
    }
   ],
   "source": [
    "compare_dict = {'model3':sample3,'model4':sample4}\n",
    "model_compare_waic = az.compare(compare_dict, ic = 'waic')\n",
    "print(model_compare_waic.head())\n",
    "az.plot_compare(model_compare_waic)"
   ]
  },
  {
   "cell_type": "code",
   "execution_count": 31,
   "metadata": {},
   "outputs": [
    {
     "name": "stderr",
     "output_type": "stream",
     "text": [
      "p:\\Users\\mjszo\\anaconda3\\envs\\data\\lib\\site-packages\\arviz\\stats\\stats.py:694: UserWarning: Estimated shape parameter of Pareto distribution is greater than 0.7 for one or more samples. You should consider using a more robust model, this is because importance sampling is less likely to work well if the marginal posterior and LOO posterior are very different. This is more likely to happen with a non-robust model and highly influential observations.\n",
      "  warnings.warn(\n",
      "p:\\Users\\mjszo\\anaconda3\\envs\\data\\lib\\site-packages\\arviz\\stats\\stats.py:248: FutureWarning: The frame.append method is deprecated and will be removed from pandas in a future version. Use pandas.concat instead.\n",
      "  ics = ics.append([ic_func(dataset, pointwise=True, scale=scale, var_name=var_name)])\n"
     ]
    },
    {
     "name": "stdout",
     "output_type": "stream",
     "text": [
      "        rank          loo      p_loo       d_loo  weight          se  \\\n",
      "model4     0 -1914.784538   4.331506    0.000000     1.0   42.851295   \n",
      "model3     1 -2705.632019  46.116911  790.847481     0.0  175.784204   \n",
      "\n",
      "               dse  warning loo_scale  \n",
      "model4    0.000000    False       log  \n",
      "model3  148.007469     True       log  \n"
     ]
    },
    {
     "name": "stderr",
     "output_type": "stream",
     "text": [
      "p:\\Users\\mjszo\\anaconda3\\envs\\data\\lib\\site-packages\\arviz\\stats\\stats.py:248: FutureWarning: The frame.append method is deprecated and will be removed from pandas in a future version. Use pandas.concat instead.\n",
      "  ics = ics.append([ic_func(dataset, pointwise=True, scale=scale, var_name=var_name)])\n"
     ]
    },
    {
     "data": {
      "text/plain": [
       "<AxesSubplot:xlabel='Log'>"
      ]
     },
     "execution_count": 31,
     "metadata": {},
     "output_type": "execute_result"
    },
    {
     "data": {
      "image/png": "[encoded data removed]",
      "text/plain": [
       "<Figure size 432x144 with 1 Axes>"
      ]
     },
     "metadata": {
      "needs_background": "light"
     },
     "output_type": "display_data"
    }
   ],
   "source": [
    "model_compare_loo = az.compare(compare_dict, ic = 'loo')\n",
    "print(model_compare_loo.head())\n",
    "az.plot_compare(model_compare_loo)"
   ]
  },
  {
   "cell_type": "markdown",
   "metadata": {},
   "source": [
    "EXERCISE 3"
   ]
  },
  {
   "cell_type": "code",
   "execution_count": 37,
   "metadata": {},
   "outputs": [
    {
     "name": "stderr",
     "output_type": "stream",
     "text": [
      "INFO:cmdstanpy:found newer exe file, not recompiling\n"
     ]
    }
   ],
   "source": [
    "model5 = CmdStanModel(stan_file='code_5.stan')"
   ]
  },
  {
   "cell_type": "code",
   "execution_count": 51,
   "metadata": {},
   "outputs": [],
   "source": [
    "y=sample2.stan_variable('y')[0]\n",
    "X=sample2.stan_variable('X')[0][:, 0:1]"
   ]
  },
  {
   "cell_type": "code",
   "execution_count": 52,
   "metadata": {},
   "outputs": [
    {
     "name": "stderr",
     "output_type": "stream",
     "text": [
      "INFO:cmdstanpy:CmdStan start processing\n",
      "chain 1 |\u001b[33m          \u001b[0m| 00:00 Status\n",
      "\u001b[A\n",
      "\n",
      "chain 1 |\u001b[33m█▎        \u001b[0m| 00:00 Iteration:  100 / 2000 [  5%]  (Warmup)\n",
      "\n",
      "\u001b[A\u001b[A\n",
      "\u001b[A\n",
      "\n",
      "chain 1 |\u001b[33m████      \u001b[0m| 00:00 Iteration:  700 / 2000 [ 35%]  (Warmup)\n",
      "\u001b[A\n",
      "\n",
      "\u001b[A\u001b[A\n",
      "chain 1 |\u001b[34m██████▎   \u001b[0m| 00:01 Iteration: 1100 / 2000 [ 55%]  (Sampling)\n",
      "\n",
      "chain 1 |\u001b[34m███████▋  \u001b[0m| 00:02 Iteration: 1400 / 2000 [ 70%]  (Sampling)\n",
      "\u001b[A\n",
      "\n",
      "chain 1 |\u001b[34m████████▋ \u001b[0m| 00:03 Iteration: 1600 / 2000 [ 80%]  (Sampling)\n",
      "\u001b[A\n",
      "\n",
      "chain 1 |\u001b[34m█████████▌\u001b[0m| 00:05 Iteration: 1800 / 2000 [ 90%]  (Sampling)\n",
      "\n",
      "\u001b[A\u001b[A\n",
      "chain 1 |\u001b[34m██████████\u001b[0m| 00:05 Iteration: 1900 / 2000 [ 95%]  (Sampling)\n",
      "\n",
      "\u001b[A\u001b[A\n",
      "chain 1 |\u001b[34m██████████\u001b[0m| 00:05 Sampling completed                       \n",
      "chain 2 |\u001b[34m██████████\u001b[0m| 00:05 Sampling completed                       \n",
      "chain 3 |\u001b[34m██████████\u001b[0m| 00:05 Sampling completed                       \n",
      "chain 4 |\u001b[34m██████████\u001b[0m| 00:05 Sampling completed                       "
     ]
    },
    {
     "name": "stdout",
     "output_type": "stream",
     "text": [
      "                                                                                                                                                                                                                                                                                                                                "
     ]
    },
    {
     "name": "stderr",
     "output_type": "stream",
     "text": [
      "\n",
      "INFO:cmdstanpy:CmdStan done processing.\n"
     ]
    },
    {
     "name": "stdout",
     "output_type": "stream",
     "text": [
      "\n"
     ]
    }
   ],
   "source": [
    "data={'N':N,'y':y,'X':X,'K': 1}\n",
    "sample5=model5.sample(data=data, chains=4)\n"
   ]
  },
  {
   "cell_type": "code",
   "execution_count": 53,
   "metadata": {},
   "outputs": [
    {
     "name": "stderr",
     "output_type": "stream",
     "text": [
      "p:\\Users\\mjszo\\anaconda3\\envs\\data\\lib\\site-packages\\arviz\\stats\\stats.py:1458: UserWarning: For one or more samples the posterior variance of the log predictive densities exceeds 0.4. This could be indication of WAIC starting to fail. \n",
      "See http://arxiv.org/abs/1507.04544 for details\n",
      "  warnings.warn(\n",
      "p:\\Users\\mjszo\\anaconda3\\envs\\data\\lib\\site-packages\\arviz\\stats\\stats.py:248: FutureWarning: The frame.append method is deprecated and will be removed from pandas in a future version. Use pandas.concat instead.\n",
      "  ics = ics.append([ic_func(dataset, pointwise=True, scale=scale, var_name=var_name)])\n",
      "p:\\Users\\mjszo\\anaconda3\\envs\\data\\lib\\site-packages\\arviz\\stats\\stats.py:248: FutureWarning: The frame.append method is deprecated and will be removed from pandas in a future version. Use pandas.concat instead.\n",
      "  ics = ics.append([ic_func(dataset, pointwise=True, scale=scale, var_name=var_name)])\n",
      "p:\\Users\\mjszo\\anaconda3\\envs\\data\\lib\\site-packages\\arviz\\stats\\stats.py:248: FutureWarning: The frame.append method is deprecated and will be removed from pandas in a future version. Use pandas.concat instead.\n",
      "  ics = ics.append([ic_func(dataset, pointwise=True, scale=scale, var_name=var_name)])\n"
     ]
    },
    {
     "name": "stdout",
     "output_type": "stream",
     "text": [
      "        rank         waic     p_waic      d_waic        weight          se  \\\n",
      "model4     0 -1914.786225   4.333193    0.000000  8.551881e-01   42.851728   \n",
      "model5     1 -2236.179600   1.947841  321.393375  1.448119e-01   23.721489   \n",
      "model3     2 -2709.605862  50.090754  794.819637  1.933536e-08  177.892818   \n",
      "\n",
      "               dse  warning waic_scale  \n",
      "model4    0.000000    False        log  \n",
      "model5   49.713437    False        log  \n",
      "model3  150.188352     True        log  \n"
     ]
    },
    {
     "data": {
      "text/plain": [
       "<AxesSubplot:xlabel='Log'>"
      ]
     },
     "execution_count": 53,
     "metadata": {},
     "output_type": "execute_result"
    },
    {
     "data": {
      "image/png": "[encoded data removed]",
      "text/plain": [
       "<Figure size 432x216 with 1 Axes>"
      ]
     },
     "metadata": {
      "needs_background": "light"
     },
     "output_type": "display_data"
    }
   ],
   "source": [
    "compare_dict = {'model3':sample3,'model4':sample4,'model5':sample5}\n",
    "model_compare_waic = az.compare(compare_dict, ic = 'waic')\n",
    "print(model_compare_waic.head())\n",
    "az.plot_compare(model_compare_waic)"
   ]
  },
  {
   "cell_type": "code",
   "execution_count": 54,
   "metadata": {},
   "outputs": [
    {
     "name": "stderr",
     "output_type": "stream",
     "text": [
      "p:\\Users\\mjszo\\anaconda3\\envs\\data\\lib\\site-packages\\arviz\\stats\\stats.py:694: UserWarning: Estimated shape parameter of Pareto distribution is greater than 0.7 for one or more samples. You should consider using a more robust model, this is because importance sampling is less likely to work well if the marginal posterior and LOO posterior are very different. This is more likely to happen with a non-robust model and highly influential observations.\n",
      "  warnings.warn(\n",
      "p:\\Users\\mjszo\\anaconda3\\envs\\data\\lib\\site-packages\\arviz\\stats\\stats.py:248: FutureWarning: The frame.append method is deprecated and will be removed from pandas in a future version. Use pandas.concat instead.\n",
      "  ics = ics.append([ic_func(dataset, pointwise=True, scale=scale, var_name=var_name)])\n",
      "p:\\Users\\mjszo\\anaconda3\\envs\\data\\lib\\site-packages\\arviz\\stats\\stats.py:248: FutureWarning: The frame.append method is deprecated and will be removed from pandas in a future version. Use pandas.concat instead.\n",
      "  ics = ics.append([ic_func(dataset, pointwise=True, scale=scale, var_name=var_name)])\n",
      "p:\\Users\\mjszo\\anaconda3\\envs\\data\\lib\\site-packages\\arviz\\stats\\stats.py:248: FutureWarning: The frame.append method is deprecated and will be removed from pandas in a future version. Use pandas.concat instead.\n",
      "  ics = ics.append([ic_func(dataset, pointwise=True, scale=scale, var_name=var_name)])\n"
     ]
    },
    {
     "name": "stdout",
     "output_type": "stream",
     "text": [
      "        rank          loo      p_loo       d_loo    weight          se  \\\n",
      "model4     0 -1914.784538   4.331506    0.000000  0.855203   42.851295   \n",
      "model5     1 -2236.179404   1.947645  321.394866  0.144797   23.721462   \n",
      "model3     2 -2705.632019  46.116911  790.847481  0.000000  175.784204   \n",
      "\n",
      "               dse  warning loo_scale  \n",
      "model4    0.000000    False       log  \n",
      "model5   49.713040    False       log  \n",
      "model3  148.007469     True       log  \n"
     ]
    },
    {
     "data": {
      "text/plain": [
       "<AxesSubplot:xlabel='Log'>"
      ]
     },
     "execution_count": 54,
     "metadata": {},
     "output_type": "execute_result"
    },
    {
     "data": {
      "image/png": "[encoded data removed]",
      "text/plain": [
       "<Figure size 432x216 with 1 Axes>"
      ]
     },
     "metadata": {
      "needs_background": "light"
     },
     "output_type": "display_data"
    }
   ],
   "source": [
    "model_compare_loo = az.compare(compare_dict, ic = 'loo')\n",
    "print(model_compare_loo.head())\n",
    "az.plot_compare(model_compare_loo)"
   ]
  },
  {
   "cell_type": "code",
   "execution_count": null,
   "metadata": {},
   "outputs": [],
   "source": []
  }
 ],
 "metadata": {
  "interpreter": {
   "hash": "bb3a3e54745169df8fcb953f9a723aee97d02f7ad7df9b38018a207a28d83d80"
  },
  "kernelspec": {
   "display_name": "Python 3.9.10 ('data')",
   "language": "python",
   "name": "python3"
  },
  "language_info": {
   "codemirror_mode": {
    "name": "ipython",
    "version": 3
   },
   "file_extension": ".py",
   "mimetype": "text/x-python",
   "name": "python",
   "nbconvert_exporter": "python",
   "pygments_lexer": "ipython3",
   "version": "3.9.10"
  },
  "orig_nbformat": 4
 },
 "nbformat": 4,
 "nbformat_minor": 2
}
